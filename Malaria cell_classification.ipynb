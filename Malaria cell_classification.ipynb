{
  "cells": [
    {
      "cell_type": "markdown",
      "metadata": {
        "id": "view-in-github",
        "colab_type": "text"
      },
      "source": [
        "<a href=\"https://colab.research.google.com/github/Hritik8005/Web-Application-for-Malaria-cell_classification/blob/main/Malaria%20cell_classification.ipynb\" target=\"_parent\"><img src=\"https://colab.research.google.com/assets/colab-badge.svg\" alt=\"Open In Colab\"/></a>"
      ]
    },
    {
      "cell_type": "code",
      "execution_count": null,
      "metadata": {
        "id": "IuKaxjojDa8q"
      },
      "outputs": [],
      "source": [
        "from google.colab import drive\n",
        "drive.mount('/content/drive')"
      ]
    },
    {
      "cell_type": "code",
      "execution_count": null,
      "metadata": {
        "id": "X1FaxobitHdF"
      },
      "outputs": [],
      "source": [
        "# Libraries to import\n",
        "import tensorflow as tf\n",
        "from tensorflow import keras\n",
        "from keras import Sequential\n",
        "import os\n",
        "from keras.applications.inception_v3 import preprocess_input,InceptionV3\n",
        "import matplotlib.pyplot as plt\n",
        "from keras.models import Model\n",
        "from keras.layers import Dense,Conv2D,MaxPooling2D,Flatten,BatchNormalization,Dropout\n",
        "from tensorflow.keras.callbacks import EarlyStopping\n",
        "from tensorflow.keras.preprocessing.image import ImageDataGenerator\n",
        "import warnings\n",
        "warnings.filterwarnings('ignore')"
      ]
    },
    {
      "cell_type": "code",
      "execution_count": null,
      "metadata": {
        "id": "hFwBsZrsDn-g"
      },
      "outputs": [],
      "source": [
        "# Define paths to your dataset\n",
        "import pathlib\n",
        "path = r'/content/drive/MyDrive/cell_images'\n",
        "data_dir = pathlib.Path(path).with_suffix('')"
      ]
    },
    {
      "cell_type": "code",
      "execution_count": null,
      "metadata": {
        "colab": {
          "base_uri": "https://localhost:8080/"
        },
        "id": "VZQAzfoqDn7T",
        "outputId": "f9382758-ef0f-4d11-dde8-4fd068d5eeae"
      },
      "outputs": [
        {
          "output_type": "stream",
          "name": "stdout",
          "text": [
            "Found 3697 files belonging to 2 classes.\n"
          ]
        }
      ],
      "source": [
        "data = keras.utils.image_dataset_from_directory(\n",
        "            directory = r'/content/drive/MyDrive/cell_images',\n",
        "            labels = \"inferred\",\n",
        "            label_mode =\"int\",\n",
        "            batch_size = 32,\n",
        "            image_size=(256,256))"
      ]
    },
    {
      "cell_type": "code",
      "execution_count": null,
      "metadata": {
        "colab": {
          "base_uri": "https://localhost:8080/"
        },
        "id": "sNCqJtTrEfkH",
        "outputId": "b7f87250-91cf-4f4d-b4c2-665e7176984c"
      },
      "outputs": [
        {
          "output_type": "execute_result",
          "data": {
            "text/plain": [
              "['Parasitized1', 'Uninfected']"
            ]
          },
          "metadata": {},
          "execution_count": 4
        }
      ],
      "source": [
        "# types of classes present\n",
        "class_name = data.class_names\n",
        "class_name"
      ]
    },
    {
      "cell_type": "code",
      "execution_count": null,
      "metadata": {
        "colab": {
          "base_uri": "https://localhost:8080/"
        },
        "id": "MF33nb25Eka9",
        "outputId": "0a9a4315-bb7a-4d86-b39b-2ed05f398d9e"
      },
      "outputs": [
        {
          "output_type": "stream",
          "name": "stdout",
          "text": [
            "3697\n"
          ]
        }
      ],
      "source": [
        "image_count = len(list(data_dir.glob('*/*.png')))\n",
        "print(image_count)"
      ]
    },
    {
      "cell_type": "code",
      "execution_count": null,
      "metadata": {
        "colab": {
          "base_uri": "https://localhost:8080/"
        },
        "id": "JH6SGY23EnkF",
        "outputId": "9aaccc31-18a0-4615-a07f-3d2726bd0551"
      },
      "outputs": [
        {
          "output_type": "stream",
          "name": "stdout",
          "text": [
            "Number of uninfected cells 1861\n",
            "Number of Parasitized cells 1837\n"
          ]
        }
      ],
      "source": [
        "uninfected = list(data_dir.glob(\"Uninfected/*\"))\n",
        "parasitized1 = list(data_dir.glob(\"Parasitized1/*\"))\n",
        "print(\"Number of uninfected cells\", len(uninfected))\n",
        "print(\"Number of Parasitized cells\", len(parasitized1))"
      ]
    },
    {
      "cell_type": "code",
      "execution_count": null,
      "metadata": {
        "colab": {
          "base_uri": "https://localhost:8080/",
          "height": 156
        },
        "id": "9B0-vKy3EppO",
        "outputId": "cc11791e-2526-427b-c4b5-1d04f43ede38"
      },
      "outputs": [
        {
          "output_type": "execute_result",
          "data": {
            "text/plain": [
              "<PIL.PngImagePlugin.PngImageFile image mode=RGB size=136x139>"
            ],
            "image/png": "[encoded data removed]"
          },
          "metadata": {},
          "execution_count": 7
        }
      ],
      "source": [
        "import PIL\n",
        "PIL.Image.open(uninfected[2])"
      ]
    },
    {
      "cell_type": "code",
      "execution_count": null,
      "metadata": {
        "colab": {
          "base_uri": "https://localhost:8080/",
          "height": 225
        },
        "id": "4rOqc1_KEtEl",
        "outputId": "31074caa-467d-4039-86e3-45587ba095d3"
      },
      "outputs": [
        {
          "output_type": "execute_result",
          "data": {
            "text/plain": [
              "<PIL.PngImagePlugin.PngImageFile image mode=RGB size=229x208>"
            ],
            "image/png": "[encoded data removed]"
          },
          "metadata": {},
          "execution_count": 8
        }
      ],
      "source": [
        "PIL.Image.open(parasitized1[2])"
      ]
    },
    {
      "cell_type": "code",
      "execution_count": null,
      "metadata": {
        "colab": {
          "base_uri": "https://localhost:8080/",
          "height": 415
        },
        "id": "AIs1X8seEu60",
        "outputId": "bd38bf4b-020e-4f77-f5f6-c74f0c91d737"
      },
      "outputs": [
        {
          "output_type": "display_data",
          "data": {
            "text/plain": [
              "<Figure size 500x500 with 12 Axes>"
            ],
            "image/png": "[encoded data removed]"
          },
          "metadata": {}
        }
      ],
      "source": [
        "# plotting the images\n",
        "plt.figure(figsize=(5,5))\n",
        "for image_batch,label_batch in data.take(1):\n",
        "    for i in range(12):\n",
        "        ax = plt.subplot(3,4,i+1)\n",
        "        plt.imshow(image_batch[0].numpy().astype('uint8'))\n",
        "        plt.title(class_name[label_batch[0]])\n",
        "        plt.axis(\"off\")"
      ]
    },
    {
      "cell_type": "code",
      "execution_count": null,
      "metadata": {
        "id": "eZR-cLywFEu_"
      },
      "outputs": [],
      "source": [
        "# Define image dimensions and batch size\n",
        "img_width, img_height = 150, 150\n",
        "batch_size = 32"
      ]
    },
    {
      "cell_type": "code",
      "execution_count": null,
      "metadata": {
        "id": "eg7sSS-JFMMw"
      },
      "outputs": [],
      "source": [
        "# Data Augmentation for training data\n",
        "img_datagen = ImageDataGenerator(\n",
        "    rescale=1.0/255,       # Normalize pixel values to [0, 1]\n",
        "    shear_range=0.2,      # Shear transformation\n",
        "    zoom_range=0.2,       # Random zoom\n",
        "    horizontal_flip=True, # Random horizontal flip\n",
        "    rotation_range=40,    # Random rotation angle in degrees\n",
        "    width_shift_range=0.2, # Horizontal shift\n",
        "    height_shift_range=0.2, # Vertical shift\n",
        "    fill_mode='nearest',\n",
        "    validation_split = 0.3, # splitting data into traning and validation\n",
        ")"
      ]
    },
    {
      "cell_type": "code",
      "execution_count": null,
      "metadata": {
        "colab": {
          "base_uri": "https://localhost:8080/"
        },
        "id": "mlo7s1--FRw3",
        "outputId": "3386132e-d01c-4fe2-86fd-07480857893e"
      },
      "outputs": [
        {
          "output_type": "stream",
          "name": "stdout",
          "text": [
            "Found 2588 images belonging to 2 classes.\n",
            "Found 1109 images belonging to 2 classes.\n"
          ]
        }
      ],
      "source": [
        "training_data = img_datagen.flow_from_directory(\n",
        "    data_dir,\n",
        "    subset = \"training\",\n",
        "    class_mode=\"binary\",\n",
        "    target_size = (img_width, img_height),\n",
        "    batch_size = batch_size,\n",
        ")\n",
        "\n",
        "validation_data = img_datagen.flow_from_directory(\n",
        "    data_dir,\n",
        "    subset = \"validation\",\n",
        "    class_mode=\"binary\",\n",
        "    target_size = (img_width, img_height),\n",
        "    batch_size = batch_size\n",
        ")"
      ]
    },
    {
      "cell_type": "code",
      "execution_count": null,
      "metadata": {
        "id": "Fdk8JIMoFTsl"
      },
      "outputs": [],
      "source": [
        "model = Sequential()\n",
        "\n",
        "# Convolutional layers\n",
        "model.add(Conv2D(32, (3, 3), input_shape=(img_width, img_height, 3), activation='relu'))\n",
        "model.add(MaxPooling2D(pool_size=(2, 2)))\n",
        "\n",
        "model.add(Conv2D(64, (3, 3), activation='relu'))\n",
        "model.add(MaxPooling2D(pool_size=(2, 2)))\n",
        "\n",
        "model.add(Conv2D(128, (3, 3), activation='relu'))\n",
        "model.add(MaxPooling2D(pool_size=(2, 2)))\n",
        "\n",
        "# Flatten layer\n",
        "model.add(Flatten())\n",
        "\n",
        "# Fully connected layers\n",
        "model.add(Dense(256, activation='relu'))\n",
        "model.add(Dropout(0.5))  # Dropout for regularization\n",
        "model.add(Dense(1, activation='sigmoid'))"
      ]
    },
    {
      "cell_type": "code",
      "execution_count": null,
      "metadata": {
        "colab": {
          "base_uri": "https://localhost:8080/"
        },
        "id": "3bf5rwIYmA2U",
        "outputId": "23660d90-d00c-467b-cd6a-a3ff7de8775e"
      },
      "outputs": [
        {
          "output_type": "stream",
          "name": "stdout",
          "text": [
            "Model: \"sequential\"\n",
            "_________________________________________________________________\n",
            " Layer (type)                Output Shape              Param #   \n",
            "=================================================================\n",
            " conv2d (Conv2D)             (None, 148, 148, 32)      896       \n",
            "                                                                 \n",
            " max_pooling2d (MaxPooling2  (None, 74, 74, 32)        0         \n",
            " D)                                                              \n",
            "                                                                 \n",
            " conv2d_1 (Conv2D)           (None, 72, 72, 64)        18496     \n",
            "                                                                 \n",
            " max_pooling2d_1 (MaxPoolin  (None, 36, 36, 64)        0         \n",
            " g2D)                                                            \n",
            "                                                                 \n",
            " conv2d_2 (Conv2D)           (None, 34, 34, 128)       73856     \n",
            "                                                                 \n",
            " max_pooling2d_2 (MaxPoolin  (None, 17, 17, 128)       0         \n",
            " g2D)                                                            \n",
            "                                                                 \n",
            " flatten (Flatten)           (None, 36992)             0         \n",
            "                                                                 \n",
            " dense (Dense)               (None, 256)               9470208   \n",
            "                                                                 \n",
            " dropout (Dropout)           (None, 256)               0         \n",
            "                                                                 \n",
            " dense_1 (Dense)             (None, 1)                 257       \n",
            "                                                                 \n",
            "=================================================================\n",
            "Total params: 9563713 (36.48 MB)\n",
            "Trainable params: 9563713 (36.48 MB)\n",
            "Non-trainable params: 0 (0.00 Byte)\n",
            "_________________________________________________________________\n"
          ]
        }
      ],
      "source": [
        "model.summary()"
      ]
    },
    {
      "cell_type": "code",
      "execution_count": null,
      "metadata": {
        "id": "d9_aQsjvFXy9"
      },
      "outputs": [],
      "source": [
        "# Compile the model\n",
        "model.compile(loss='binary_crossentropy', optimizer='adam', metrics=['accuracy'])"
      ]
    },
    {
      "cell_type": "code",
      "execution_count": null,
      "metadata": {
        "colab": {
          "base_uri": "https://localhost:8080/"
        },
        "id": "yioSqmqSFakF",
        "outputId": "7a18c950-849b-48a2-8656-81d9a9f0e3f9"
      },
      "outputs": [
        {
          "output_type": "stream",
          "name": "stdout",
          "text": [
            "Epoch 1/10\n",
            "80/80 [==============================] - 997s 12s/step - loss: 0.6643 - accuracy: 0.5947 - val_loss: 0.6395 - val_accuracy: 0.6756\n",
            "Epoch 2/10\n",
            "80/80 [==============================] - 34s 423ms/step - loss: 0.4861 - accuracy: 0.8106 - val_loss: 1.1257 - val_accuracy: 0.8695\n",
            "Epoch 3/10\n",
            "80/80 [==============================] - 35s 444ms/step - loss: 0.3550 - accuracy: 0.8908 - val_loss: 0.5892 - val_accuracy: 0.8778\n",
            "Epoch 4/10\n",
            "80/80 [==============================] - 36s 448ms/step - loss: 0.3271 - accuracy: 0.8901 - val_loss: 0.7366 - val_accuracy: 0.8676\n",
            "Epoch 5/10\n",
            "80/80 [==============================] - 35s 432ms/step - loss: 0.3090 - accuracy: 0.8975 - val_loss: 0.3323 - val_accuracy: 0.8915\n",
            "Epoch 6/10\n",
            "80/80 [==============================] - 43s 544ms/step - loss: 0.2873 - accuracy: 0.9026 - val_loss: 0.6379 - val_accuracy: 0.8869\n",
            "Epoch 7/10\n",
            "80/80 [==============================] - 34s 432ms/step - loss: 0.2481 - accuracy: 0.9167 - val_loss: 0.2881 - val_accuracy: 0.9026\n",
            "Epoch 8/10\n",
            "80/80 [==============================] - 43s 543ms/step - loss: 0.2088 - accuracy: 0.9261 - val_loss: 0.3294 - val_accuracy: 0.8732\n",
            "Epoch 9/10\n",
            "80/80 [==============================] - 34s 422ms/step - loss: 0.2069 - accuracy: 0.9327 - val_loss: 0.2450 - val_accuracy: 0.9053\n",
            "Epoch 10/10\n",
            "80/80 [==============================] - 34s 422ms/step - loss: 0.1914 - accuracy: 0.9358 - val_loss: 0.3267 - val_accuracy: 0.8869\n"
          ]
        }
      ],
      "source": [
        "epochs = 10\n",
        "\n",
        "history = model.fit(\n",
        "    training_data,\n",
        "    steps_per_epoch=training_data.samples // batch_size,\n",
        "    validation_data=validation_data,\n",
        "    validation_steps=validation_data.samples // batch_size,\n",
        "    epochs=epochs\n",
        ")"
      ]
    },
    {
      "cell_type": "code",
      "execution_count": null,
      "metadata": {
        "colab": {
          "base_uri": "https://localhost:8080/",
          "height": 432
        },
        "id": "5DiPj-UUFh1l",
        "outputId": "aa2892a7-9f9d-45d9-fa3f-08f50c3c5a01"
      },
      "outputs": [
        {
          "output_type": "display_data",
          "data": {
            "text/plain": [
              "<Figure size 640x480 with 1 Axes>"
            ],
            "image/png": "[encoded data removed]"
          },
          "metadata": {}
        }
      ],
      "source": [
        "# visualizing the train and validation accuracy\n",
        "plt.plot(history.history['accuracy'],color='red',label='train')\n",
        "plt.plot(history.history['val_accuracy'],color='blue',label='validation')\n",
        "plt.legend()\n",
        "plt.show()"
      ]
    },
    {
      "cell_type": "code",
      "execution_count": null,
      "metadata": {
        "colab": {
          "base_uri": "https://localhost:8080/",
          "height": 430
        },
        "id": "M1pUrxjpmQ1E",
        "outputId": "22bd28e0-448d-4e4b-c859-99b9f5e8f384"
      },
      "outputs": [
        {
          "output_type": "display_data",
          "data": {
            "text/plain": [
              "<Figure size 640x480 with 1 Axes>"
            ],
            "image/png": "[encoded data removed]"
          },
          "metadata": {}
        }
      ],
      "source": [
        "# visualizing the losses\n",
        "plt.plot(history.history['loss'],color='red',label='train')\n",
        "plt.plot(history.history['val_loss'],color='blue',label='validation')\n",
        "plt.legend()\n",
        "plt.show()"
      ]
    },
    {
      "cell_type": "code",
      "execution_count": null,
      "metadata": {
        "colab": {
          "base_uri": "https://localhost:8080/"
        },
        "id": "HGMbCzMrmQyF",
        "outputId": "b7193933-1840-41ef-8848-0ea8044ff4d1"
      },
      "outputs": [
        {
          "output_type": "stream",
          "name": "stdout",
          "text": [
            "Found 3697 images belonging to 2 classes.\n",
            "116/116 [==============================] - 11s 94ms/step - loss: 0.1958 - accuracy: 0.9343\n",
            "Test loss: 0.19575393199920654\n",
            "Test accuracy: 0.9342710375785828\n"
          ]
        }
      ],
      "source": [
        "# Evaluate the model on a test set\n",
        "test_data_dir = '/content/drive/MyDrive/cell_images'\n",
        "test_datagen = ImageDataGenerator(rescale=1.0/255)\n",
        "\n",
        "test_generator = test_datagen.flow_from_directory(\n",
        "    test_data_dir,\n",
        "    target_size=(img_width, img_height),\n",
        "    batch_size=batch_size,\n",
        "    class_mode='binary'\n",
        ")\n",
        "\n",
        "score = model.evaluate(test_generator)\n",
        "print('Test loss:', score[0])\n",
        "print('Test accuracy:', score[1])"
      ]
    },
    {
      "cell_type": "code",
      "execution_count": null,
      "metadata": {
        "id": "PAM3t2E_mjIu"
      },
      "outputs": [],
      "source": [
        "# Save the model\n",
        "model.save('cell_classification_cnn_model.h5')"
      ]
    },
    {
      "cell_type": "code",
      "execution_count": null,
      "metadata": {
        "id": "pKinUrdrmjMT"
      },
      "outputs": [],
      "source": [
        "from tensorflow.keras.models import load_model\n",
        "from tensorflow.keras.preprocessing import image\n",
        "import numpy as np"
      ]
    },
    {
      "cell_type": "code",
      "execution_count": null,
      "metadata": {
        "colab": {
          "base_uri": "https://localhost:8080/"
        },
        "id": "FtF-Wan5n6jl",
        "outputId": "10d5203d-31ef-454c-fe0d-4cfcbc5f19e9"
      },
      "outputs": [
        {
          "output_type": "stream",
          "name": "stdout",
          "text": [
            "1/1 [==============================] - 0s 68ms/step\n",
            "Class 1: This is uninfected image.\n"
          ]
        }
      ],
      "source": [
        "# Load the trained model\n",
        "model = load_model('cell_classification_cnn_model.h5')\n",
        "\n",
        "# Load an image for prediction (replace 'path_to_image.jpg' with your image file)\n",
        "#image_path = '/content/3.jpg'\n",
        "image_path = '/content/drive/MyDrive/cell_images/Uninfected/C111P72ThinF_IMG_20150930_113003_cell_144.png'\n",
        "img = image.load_img(image_path, target_size=(150, 150))\n",
        "img = image.img_to_array(img)\n",
        "img = np.expand_dims(img, axis=0)\n",
        "img = img / 255.0  # Normalize the image data\n",
        "\n",
        "# Make a prediction\n",
        "prediction = model.predict(img)\n",
        "\n",
        "# Interpret the prediction\n",
        "if prediction[0][0] > 0.5:\n",
        "    print(\"Class 1: This is uninfected image.\")\n",
        "else:\n",
        "    print(\"Class 0: This is parasitized1 image.\")"
      ]
    },
    {
      "cell_type": "code",
      "execution_count": null,
      "metadata": {
        "colab": {
          "base_uri": "https://localhost:8080/"
        },
        "id": "KN0Y2mP_BCxZ",
        "outputId": "b6813b22-a97f-4f38-9e8a-56bd62983d46"
      },
      "outputs": [
        {
          "output_type": "stream",
          "name": "stdout",
          "text": [
            "Collecting pyngrok\n",
            "  Downloading pyngrok-7.0.3-py3-none-any.whl (21 kB)\n",
            "Requirement already satisfied: PyYAML in /usr/local/lib/python3.10/dist-packages (from pyngrok) (6.0.1)\n",
            "Installing collected packages: pyngrok\n",
            "Successfully installed pyngrok-7.0.3\n"
          ]
        }
      ],
      "source": [
        "!pip install pyngrok"
      ]
    },
    {
      "cell_type": "code",
      "source": [
        "!pip install --upgrade streamlit"
      ],
      "metadata": {
        "colab": {
          "base_uri": "https://localhost:8080/"
        },
        "id": "pfZBvE3MiPFo",
        "outputId": "dd05bf00-8966-40f7-d370-af795e6ff901"
      },
      "execution_count": null,
      "outputs": [
        {
          "output_type": "stream",
          "name": "stdout",
          "text": [
            "Collecting streamlit\n",
            "  Downloading streamlit-1.29.0-py2.py3-none-any.whl (8.4 MB)\n",
            "\u001b[2K     \u001b[90m━━━━━━━━━━━━━━━━━━━━━━━━━━━━━━━━━━━━━━━━\u001b[0m \u001b[32m8.4/8.4 MB\u001b[0m \u001b[31m29.6 MB/s\u001b[0m eta \u001b[36m0:00:00\u001b[0m\n",
            "\u001b[?25hRequirement already satisfied: altair<6,>=4.0 in /usr/local/lib/python3.10/dist-packages (from streamlit) (4.2.2)\n",
            "Requirement already satisfied: blinker<2,>=1.0.0 in /usr/lib/python3/dist-packages (from streamlit) (1.4)\n",
            "Requirement already satisfied: cachetools<6,>=4.0 in /usr/local/lib/python3.10/dist-packages (from streamlit) (5.3.2)\n",
            "Requirement already satisfied: click<9,>=7.0 in /usr/local/lib/python3.10/dist-packages (from streamlit) (8.1.7)\n",
            "Requirement already satisfied: importlib-metadata<7,>=1.4 in /usr/local/lib/python3.10/dist-packages (from streamlit) (6.8.0)\n",
            "Requirement already satisfied: numpy<2,>=1.19.3 in /usr/local/lib/python3.10/dist-packages (from streamlit) (1.23.5)\n",
            "Requirement already satisfied: packaging<24,>=16.8 in /usr/local/lib/python3.10/dist-packages (from streamlit) (23.2)\n",
            "Requirement already satisfied: pandas<3,>=1.3.0 in /usr/local/lib/python3.10/dist-packages (from streamlit) (1.5.3)\n",
            "Requirement already satisfied: pillow<11,>=7.1.0 in /usr/local/lib/python3.10/dist-packages (from streamlit) (9.4.0)\n",
            "Requirement already satisfied: protobuf<5,>=3.20 in /usr/local/lib/python3.10/dist-packages (from streamlit) (3.20.3)\n",
            "Requirement already satisfied: pyarrow>=6.0 in /usr/local/lib/python3.10/dist-packages (from streamlit) (9.0.0)\n",
            "Requirement already satisfied: python-dateutil<3,>=2.7.3 in /usr/local/lib/python3.10/dist-packages (from streamlit) (2.8.2)\n",
            "Requirement already satisfied: requests<3,>=2.27 in /usr/local/lib/python3.10/dist-packages (from streamlit) (2.31.0)\n",
            "Requirement already satisfied: rich<14,>=10.14.0 in /usr/local/lib/python3.10/dist-packages (from streamlit) (13.7.0)\n",
            "Requirement already satisfied: tenacity<9,>=8.1.0 in /usr/local/lib/python3.10/dist-packages (from streamlit) (8.2.3)\n",
            "Requirement already satisfied: toml<2,>=0.10.1 in /usr/local/lib/python3.10/dist-packages (from streamlit) (0.10.2)\n",
            "Requirement already satisfied: typing-extensions<5,>=4.3.0 in /usr/local/lib/python3.10/dist-packages (from streamlit) (4.5.0)\n",
            "Requirement already satisfied: tzlocal<6,>=1.1 in /usr/local/lib/python3.10/dist-packages (from streamlit) (5.2)\n",
            "Collecting validators<1,>=0.2 (from streamlit)\n",
            "  Downloading validators-0.22.0-py3-none-any.whl (26 kB)\n",
            "Collecting gitpython!=3.1.19,<4,>=3.0.7 (from streamlit)\n",
            "  Downloading GitPython-3.1.40-py3-none-any.whl (190 kB)\n",
            "\u001b[2K     \u001b[90m━━━━━━━━━━━━━━━━━━━━━━━━━━━━━━━━━━━━━━━━\u001b[0m \u001b[32m190.6/190.6 kB\u001b[0m \u001b[31m26.5 MB/s\u001b[0m eta \u001b[36m0:00:00\u001b[0m\n",
            "\u001b[?25hCollecting pydeck<1,>=0.8.0b4 (from streamlit)\n",
            "  Downloading pydeck-0.8.1b0-py2.py3-none-any.whl (4.8 MB)\n",
            "\u001b[2K     \u001b[90m━━━━━━━━━━━━━━━━━━━━━━━━━━━━━━━━━━━━━━━━\u001b[0m \u001b[32m4.8/4.8 MB\u001b[0m \u001b[31m77.6 MB/s\u001b[0m eta \u001b[36m0:00:00\u001b[0m\n",
            "\u001b[?25hRequirement already satisfied: tornado<7,>=6.0.3 in /usr/local/lib/python3.10/dist-packages (from streamlit) (6.3.2)\n",
            "Collecting watchdog>=2.1.5 (from streamlit)\n",
            "  Downloading watchdog-3.0.0-py3-none-manylinux2014_x86_64.whl (82 kB)\n",
            "\u001b[2K     \u001b[90m━━━━━━━━━━━━━━━━━━━━━━━━━━━━━━━━━━━━━━━━\u001b[0m \u001b[32m82.1/82.1 kB\u001b[0m \u001b[31m7.4 MB/s\u001b[0m eta \u001b[36m0:00:00\u001b[0m\n",
            "\u001b[?25hRequirement already satisfied: entrypoints in /usr/local/lib/python3.10/dist-packages (from altair<6,>=4.0->streamlit) (0.4)\n",
            "Requirement already satisfied: jinja2 in /usr/local/lib/python3.10/dist-packages (from altair<6,>=4.0->streamlit) (3.1.2)\n",
            "Requirement already satisfied: jsonschema>=3.0 in /usr/local/lib/python3.10/dist-packages (from altair<6,>=4.0->streamlit) (4.19.2)\n",
            "Requirement already satisfied: toolz in /usr/local/lib/python3.10/dist-packages (from altair<6,>=4.0->streamlit) (0.12.0)\n",
            "Collecting gitdb<5,>=4.0.1 (from gitpython!=3.1.19,<4,>=3.0.7->streamlit)\n",
            "  Downloading gitdb-4.0.11-py3-none-any.whl (62 kB)\n",
            "\u001b[2K     \u001b[90m━━━━━━━━━━━━━━━━━━━━━━━━━━━━━━━━━━━━━━━━\u001b[0m \u001b[32m62.7/62.7 kB\u001b[0m \u001b[31m9.7 MB/s\u001b[0m eta \u001b[36m0:00:00\u001b[0m\n",
            "\u001b[?25hRequirement already satisfied: zipp>=0.5 in /usr/local/lib/python3.10/dist-packages (from importlib-metadata<7,>=1.4->streamlit) (3.17.0)\n",
            "Requirement already satisfied: pytz>=2020.1 in /usr/local/lib/python3.10/dist-packages (from pandas<3,>=1.3.0->streamlit) (2023.3.post1)\n",
            "Requirement already satisfied: six>=1.5 in /usr/local/lib/python3.10/dist-packages (from python-dateutil<3,>=2.7.3->streamlit) (1.16.0)\n",
            "Requirement already satisfied: charset-normalizer<4,>=2 in /usr/local/lib/python3.10/dist-packages (from requests<3,>=2.27->streamlit) (3.3.2)\n",
            "Requirement already satisfied: idna<4,>=2.5 in /usr/local/lib/python3.10/dist-packages (from requests<3,>=2.27->streamlit) (3.6)\n",
            "Requirement already satisfied: urllib3<3,>=1.21.1 in /usr/local/lib/python3.10/dist-packages (from requests<3,>=2.27->streamlit) (2.0.7)\n",
            "Requirement already satisfied: certifi>=2017.4.17 in /usr/local/lib/python3.10/dist-packages (from requests<3,>=2.27->streamlit) (2023.11.17)\n",
            "Requirement already satisfied: markdown-it-py>=2.2.0 in /usr/local/lib/python3.10/dist-packages (from rich<14,>=10.14.0->streamlit) (3.0.0)\n",
            "Requirement already satisfied: pygments<3.0.0,>=2.13.0 in /usr/local/lib/python3.10/dist-packages (from rich<14,>=10.14.0->streamlit) (2.16.1)\n",
            "Collecting smmap<6,>=3.0.1 (from gitdb<5,>=4.0.1->gitpython!=3.1.19,<4,>=3.0.7->streamlit)\n",
            "  Downloading smmap-5.0.1-py3-none-any.whl (24 kB)\n",
            "Requirement already satisfied: MarkupSafe>=2.0 in /usr/local/lib/python3.10/dist-packages (from jinja2->altair<6,>=4.0->streamlit) (2.1.3)\n",
            "Requirement already satisfied: attrs>=22.2.0 in /usr/local/lib/python3.10/dist-packages (from jsonschema>=3.0->altair<6,>=4.0->streamlit) (23.1.0)\n",
            "Requirement already satisfied: jsonschema-specifications>=2023.03.6 in /usr/local/lib/python3.10/dist-packages (from jsonschema>=3.0->altair<6,>=4.0->streamlit) (2023.11.2)\n",
            "Requirement already satisfied: referencing>=0.28.4 in /usr/local/lib/python3.10/dist-packages (from jsonschema>=3.0->altair<6,>=4.0->streamlit) (0.31.1)\n",
            "Requirement already satisfied: rpds-py>=0.7.1 in /usr/local/lib/python3.10/dist-packages (from jsonschema>=3.0->altair<6,>=4.0->streamlit) (0.13.2)\n",
            "Requirement already satisfied: mdurl~=0.1 in /usr/local/lib/python3.10/dist-packages (from markdown-it-py>=2.2.0->rich<14,>=10.14.0->streamlit) (0.1.2)\n",
            "Installing collected packages: watchdog, validators, smmap, pydeck, gitdb, gitpython, streamlit\n",
            "Successfully installed gitdb-4.0.11 gitpython-3.1.40 pydeck-0.8.1b0 smmap-5.0.1 streamlit-1.29.0 validators-0.22.0 watchdog-3.0.0\n"
          ]
        }
      ]
    },
    {
      "cell_type": "code",
      "source": [
        "%%writefile app.py\n",
        "\n",
        "import tensorflow as tf\n",
        "import numpy as np\n",
        "import streamlit as st\n",
        "from PIL import Image\n",
        "import requests\n",
        "from io import BytesIo\n",
        "\n",
        "st.set_option('deprecation.showfileUploaderEncoding', False)\n",
        "st.title(\"Cell Image Classifier\")\n",
        "st.text(\"Provide URL of cell Image for image classification\")\n",
        "\n",
        "@st.cache(allow_output_mutation=True)\n",
        "def load_model():\n",
        "  model = tf.keras.models.load_model('/content/cell_classification_cnn_model.h5')\n",
        "  return model\n",
        "\n",
        "with st.spinner('Loading Model Into Memory....'):\n",
        "  model = load_model()\n",
        "\n",
        "classes = ['parasitized1','uninfected']\n",
        "\n",
        "def scale(image):\n",
        "  image = tf.cast(image, tf.float32)\n",
        "  image /= 255.0\n",
        "\n",
        "return tf.image.resize(image, [224, 224])\n",
        "\n",
        "def decode_img(image):\n",
        "  img = tf.image.decode_jpeg(image, channels=3)\n",
        "  img = scale(img)\n",
        "  return np.expand_dims(img, axis=0)\n",
        "\n",
        "path = st.text_input('Enter Image URL to Classify.. ','https://www.google.com/url?sa=i&url=https%3A%2F%2Fwww.dreamstime.com%2Fstock-illustration-blood-smear-malaria-parasite-positive-thin-film-image65598998&psig=AOvVaw2WrvuU92rLBHSso_zov2C3&ust=1701266509752000&source=images&cd=vfe&opi=89978449&ved=0CBIQjRxqFwoTCNCL8uXt5oIDFQAAAAAdAAAAABAM'\n",
        "if path is not None:\n",
        "  content = requests.get(path).content\n",
        "\n",
        "  st.write(\"Predicted Class :\")\n",
        "  with st.spinner('classifying......'):\n",
        "    label =np.argmax(model.predict(decode_img(content)), axis=1)\n",
        "    st.write(classes [label[0]])\n",
        "st.write(\"\")\n",
        "image = Image.open(BytesIO(content))\n",
        "st.image(image, caption='Classifying cell Image', use_column_width=True)"
      ],
      "metadata": {
        "colab": {
          "base_uri": "https://localhost:8080/"
        },
        "id": "6rY4c0UpYyZ9",
        "outputId": "b625db6e-01d9-4866-ecec-b58824ddeae2"
      },
      "execution_count": null,
      "outputs": [
        {
          "output_type": "stream",
          "name": "stdout",
          "text": [
            "Overwriting app.py\n"
          ]
        }
      ]
    },
    {
      "cell_type": "code",
      "execution_count": null,
      "metadata": {
        "id": "wFSqSIUXDxZw",
        "colab": {
          "base_uri": "https://localhost:8080/"
        },
        "outputId": "dfa3174d-225a-45cb-d806-b9bb96f9ddb3"
      },
      "outputs": [
        {
          "output_type": "stream",
          "name": "stdout",
          "text": [
            "Overwriting app.py\n"
          ]
        }
      ],
      "source": [
        "%%writefile app.py\n",
        "import streamlit as st\n",
        "from PIL import Image, ImageOps\n",
        "import matplotlib.pyplot as plt\n",
        "import tensorflow as tf\n",
        "import tensorflow_hub as hub\n",
        "import numpy as np\n",
        "from tensorflow.keras import preprocessing\n",
        "from tensorflow.keras.models import load_model\n",
        "from tensorflow.keras.activations import softmax\n",
        "import os\n",
        "import h5py\n",
        "\n",
        "st.header(\"Image class predictor\")\n",
        "\n",
        "def main():\n",
        "  file_uploaded = st.file_uploader(\"Choose the file\", type =['jpg', 'png', 'jpeg'])\n",
        "  if file_uploaded is not None:\n",
        "    image =Image.open(file_uploaded)\n",
        "    figure = plt.figure()\n",
        "    plt.imshow(image)\n",
        "    plt.axis('off')\n",
        "    result= predict_class(image)\n",
        "    st.write(result)\n",
        "    st.pyplot(figure)\n",
        "\n",
        "\n",
        "def predict_class(image):\n",
        "    classifier_model = tf.keras.models.load_model('/content/cell_classification_cnn_model.h5')\n",
        "    shape = (150, 150, 3)  # Corrected input shape\n",
        "    model = tf.keras.Sequential([hub.KerasLayer(classifier_model, input_shape=shape)])\n",
        "\n",
        "    # Preprocess the image\n",
        "    img = image.resize((150, 150))\n",
        "    img = preprocessing.image.img_to_array(img)\n",
        "    img = np.expand_dims(img, axis=0)\n",
        "    img = img / 255.0  # Normalize the image data\n",
        "\n",
        "    # Make a prediction\n",
        "    prediction = model.predict(img)\n",
        "\n",
        "    # Interpret the prediction\n",
        "    if prediction[0][0] > 0.5:\n",
        "      result = \"Class 1: This is uninfected image.\"\n",
        "    else:\n",
        "      result = \"Class 0: This is parasitized1 image.\"\n",
        "\n",
        "    return result\n",
        "\n",
        "if __name__ ==  \"__main__\":\n",
        "  main()"
      ]
    },
    {
      "cell_type": "code",
      "execution_count": null,
      "metadata": {
        "colab": {
          "base_uri": "https://localhost:8080/"
        },
        "id": "SajQUw5K0sYt",
        "outputId": "92304e8a-ec85-45cc-be7c-f67094771e42"
      },
      "outputs": [
        {
          "output_type": "stream",
          "name": "stdout",
          "text": [
            "Authtoken saved to configuration file: /root/.config/ngrok/ngrok.yml\n"
          ]
        }
      ],
      "source": [
        "!ngrok authtoken 2YoBbnCTxEn7g18zuxNZpdbFeyF_4dvPasiZUBQT9rJr9tG25"
      ]
    },
    {
      "cell_type": "code",
      "execution_count": null,
      "metadata": {
        "colab": {
          "base_uri": "https://localhost:8080/"
        },
        "id": "hsd0EFxbD_Uh",
        "outputId": "23e5a490-ac10-4ab1-f498-15405eaef421"
      },
      "outputs": [
        {
          "output_type": "stream",
          "name": "stdout",
          "text": [
            "nohup: appending output to 'nohup.out'\n"
          ]
        }
      ],
      "source": [
        "!nohup streamlit run app.py &"
      ]
    },
    {
      "cell_type": "code",
      "execution_count": null,
      "metadata": {
        "id": "hEKeBlYMV_Xu"
      },
      "outputs": [],
      "source": [
        "import pyngrok\n",
        "from pyngrok import ngrok\n",
        "ngrok.set_auth_token('2YoBbnCTxEn7g18zuxNZpdbFeyF_4dvPasiZUBQT9rJr9tG25')"
      ]
    },
    {
      "cell_type": "code",
      "execution_count": null,
      "metadata": {
        "id": "6O9o0uXLWCKt"
      },
      "outputs": [],
      "source": [
        "port = 8501\n",
        "tunnel = ngrok.connect(port)"
      ]
    },
    {
      "cell_type": "code",
      "execution_count": null,
      "metadata": {
        "id": "JwGN0sDJWFnV",
        "colab": {
          "base_uri": "https://localhost:8080/"
        },
        "outputId": "66a5e4e3-e3ba-46b3-e63c-3a178f34173a"
      },
      "outputs": [
        {
          "output_type": "stream",
          "name": "stdout",
          "text": [
            "https://26b2-35-204-160-140.ngrok-free.app\n"
          ]
        }
      ],
      "source": [
        "print(tunnel.public_url)"
      ]
    },
    {
      "cell_type": "code",
      "source": [
        "https://www.google.com/url?sa=i&url=https%3A%2F%2Fdepositphotos.com%2Fphoto%2Fblood-smear-malaria-parasite-positive-in-thin-film-96940380.html&psig=AOvVaw0S4cTB0kC6dM44MJ4Edpel&ust=1701944161179000&source=images&cd=vfe&opi=89978449&ved=0CBIQjRxqFwoTCLjQnKLK-oIDFQAAAAAdAAAAABAF"
      ],
      "metadata": {
        "id": "HTXMR5NtoZ5s"
      },
      "execution_count": null,
      "outputs": []
    },
    {
      "cell_type": "code",
      "execution_count": null,
      "metadata": {
        "colab": {
          "base_uri": "https://localhost:8080/"
        },
        "id": "BoD2CtwwLkrz",
        "outputId": "cbdc788b-8317-4342-ccb2-a8c36b1ee1a2"
      },
      "outputs": [
        {
          "output_type": "stream",
          "name": "stdout",
          "text": [
            "--2023-12-07 11:25:36--  https://bin.equinox.io/c/4VmDzA7iaHb/ngrok-stable-linux-amd64.zip\n",
            "Resolving bin.equinox.io (bin.equinox.io)... 52.202.168.65, 18.205.222.128, 54.161.241.46, ...\n",
            "Connecting to bin.equinox.io (bin.equinox.io)|52.202.168.65|:443... connected.\n",
            "HTTP request sent, awaiting response... 200 OK\n",
            "Length: 13921656 (13M) [application/octet-stream]\n",
            "Saving to: ‘ngrok-stable-linux-amd64.zip’\n",
            "\n",
            "ngrok-stable-linux- 100%[===================>]  13.28M  14.0MB/s    in 0.9s    \n",
            "\n",
            "2023-12-07 11:25:37 (14.0 MB/s) - ‘ngrok-stable-linux-amd64.zip’ saved [13921656/13921656]\n",
            "\n"
          ]
        }
      ],
      "source": [
        "!wget https://bin.equinox.io/c/4VmDzA7iaHb/ngrok-stable-linux-amd64.zip"
      ]
    },
    {
      "cell_type": "code",
      "execution_count": null,
      "metadata": {
        "colab": {
          "base_uri": "https://localhost:8080/"
        },
        "id": "p30a-Hp-Lowh",
        "outputId": "e0359644-8115-4574-9a01-47ec0521beba"
      },
      "outputs": [
        {
          "output_type": "stream",
          "name": "stdout",
          "text": [
            "Archive:  ngrok-stable-linux-amd64.zip\n",
            "  inflating: ngrok                   \n"
          ]
        }
      ],
      "source": [
        "!unzip ngrok-stable-linux-amd64.zip"
      ]
    },
    {
      "cell_type": "code",
      "execution_count": null,
      "metadata": {
        "id": "012uxTqqMlVk"
      },
      "outputs": [],
      "source": [
        "get_ipython().system_raw(\"./ngrok http 8501 &\")"
      ]
    },
    {
      "cell_type": "code",
      "execution_count": null,
      "metadata": {
        "colab": {
          "base_uri": "https://localhost:8080/"
        },
        "id": "5rdeauU3M6eN",
        "outputId": "552fc2fc-9475-473a-9d9b-e3cbd5835ba4"
      },
      "outputs": [
        {
          "output_type": "stream",
          "name": "stdout",
          "text": [
            "Execute the next line and then go to the ngrok URL: https://01d3-35-223-17-69.ngrok-free.app\n"
          ]
        }
      ],
      "source": [
        "!curl -s http://localhost:4040/api/tunnels | python3 -c \\\n",
        "'import sys, json; print(\"Execute the next line and then go to the ngrok URL: \"+json.load(sys.stdin)[\"tunnels\"][0][\"public_url\"])'"
      ]
    },
    {
      "cell_type": "code",
      "execution_count": null,
      "metadata": {
        "colab": {
          "base_uri": "https://localhost:8080/"
        },
        "id": "oyw2-ZJUH7zU",
        "outputId": "b12d31c4-8891-47a8-e6f1-c8cb815a1fba"
      },
      "outputs": [
        {
          "output_type": "stream",
          "name": "stdout",
          "text": [
            "\n",
            "Collecting usage statistics. To deactivate, set browser.gatherUsageStats to False.\n",
            "\u001b[0m\n",
            "\u001b[0m\n",
            "\u001b[34m\u001b[1m  You can now view your Streamlit app in your browser.\u001b[0m\n",
            "\u001b[0m\n",
            "\u001b[34m  Network URL: \u001b[0m\u001b[1mhttp://172.28.0.12:8501\u001b[0m\n",
            "\u001b[34m  External URL: \u001b[0m\u001b[1mhttp://35.223.17.69:8501\u001b[0m\n",
            "\u001b[0m\n",
            "[ColabKernelApp] ERROR | Unable to initialize signal:\n",
            "Traceback (most recent call last):\n",
            "  File \"/usr/local/lib/python3.10/dist-packages/ipykernel/kernelapp.py\", line 583, in initialize\n",
            "    self.init_signal()\n",
            "  File \"/usr/local/lib/python3.10/dist-packages/ipykernel/kernelapp.py\", line 435, in init_signal\n",
            "    signal.signal(signal.SIGINT, signal.SIG_IGN)\n",
            "  File \"/usr/lib/python3.10/signal.py\", line 56, in signal\n",
            "    handler = _signal.signal(_enum_to_int(signalnum), _enum_to_int(handler))\n",
            "ValueError: signal only works in main thread of the main interpreter\n",
            "--- Logging error ---\n",
            "Traceback (most recent call last):\n",
            "  File \"/usr/lib/python3.10/asyncio/events.py\", line 80, in _run\n",
            "    self._context.run(self._callback, *self._args)\n",
            "  File \"/usr/local/lib/python3.10/dist-packages/tornado/platform/asyncio.py\", line 192, in _handle_events\n",
            "    handler_func(fileobj, events)\n",
            "  File \"/usr/local/lib/python3.10/dist-packages/zmq/eventloop/zmqstream.py\", line 570, in _handle_events\n",
            "    zmq_events = self.socket.EVENTS\n",
            "  File \"/usr/local/lib/python3.10/dist-packages/zmq/sugar/attrsettr.py\", line 55, in __getattr__\n",
            "    return self._get_attr_opt(upper_key, opt)\n",
            "  File \"/usr/local/lib/python3.10/dist-packages/zmq/sugar/attrsettr.py\", line 67, in _get_attr_opt\n",
            "    return self.get(opt)\n",
            "  File \"zmq/backend/cython/socket.pyx\", line 476, in zmq.backend.cython.socket.Socket.get\n",
            "  File \"zmq/backend/cython/socket.pyx\", line 137, in zmq.backend.cython.socket._check_closed\n",
            "zmq.error.ZMQError: Socket operation on non-socket\n",
            "\n",
            "During handling of the above exception, another exception occurred:\n",
            "\n",
            "Traceback (most recent call last):\n",
            "  File \"/usr/lib/python3.10/logging/__init__.py\", line 1103, in emit\n",
            "    stream.write(msg + self.terminator)\n",
            "  File \"/usr/local/lib/python3.10/dist-packages/ipykernel/iostream.py\", line 412, in write\n",
            "    self._schedule_flush()\n",
            "  File \"/usr/local/lib/python3.10/dist-packages/ipykernel/iostream.py\", line 333, in _schedule_flush\n",
            "    self.pub_thread.schedule(_schedule_in_thread)\n",
            "  File \"/usr/local/lib/python3.10/dist-packages/ipykernel/iostream.py\", line 205, in schedule\n",
            "    f()\n",
            "  File \"/usr/local/lib/python3.10/dist-packages/ipykernel/iostream.py\", line 332, in _schedule_in_thread\n",
            "    self._io_loop.call_later(self.flush_interval, self._flush)\n",
            "  File \"/usr/local/lib/python3.10/dist-packages/tornado/ioloop.py\", line 597, in call_later\n",
            "    return self.call_at(self.time() + delay, callback, *args, **kwargs)\n",
            "  File \"/usr/local/lib/python3.10/dist-packages/tornado/platform/asyncio.py\", line 206, in call_at\n",
            "    return self.asyncio_loop.call_later(\n",
            "  File \"/usr/lib/python3.10/asyncio/base_events.py\", line 721, in call_later\n",
            "    timer = self.call_at(self.time() + delay, callback, *args,\n",
            "  File \"/usr/lib/python3.10/asyncio/base_events.py\", line 732, in call_at\n",
            "    self._check_closed()\n",
            "  File \"/usr/lib/python3.10/asyncio/base_events.py\", line 515, in _check_closed\n",
            "    raise RuntimeError('Event loop is closed')\n",
            "RuntimeError: Event loop is closed\n",
            "Call stack:\n",
            "  File \"/usr/lib/python3.10/threading.py\", line 973, in _bootstrap\n",
            "    self._bootstrap_inner()\n",
            "  File \"/usr/lib/python3.10/threading.py\", line 1016, in _bootstrap_inner\n",
            "    self.run()\n",
            "  File \"/usr/lib/python3.10/threading.py\", line 953, in run\n",
            "    self._target(*self._args, **self._kwargs)\n",
            "  File \"/usr/local/lib/python3.10/dist-packages/streamlit/runtime/scriptrunner/script_runner.py\", line 286, in _run_script_thread\n",
            "    self._run_script(request.rerun_data)\n",
            "  File \"/usr/local/lib/python3.10/dist-packages/streamlit/runtime/scriptrunner/script_runner.py\", line 534, in _run_script\n",
            "    exec(code, module.__dict__)\n",
            "  File \"/usr/local/lib/python3.10/dist-packages/colab_kernel_launcher.py\", line 37, in <module>\n",
            "    ColabKernelApp.launch_instance()\n",
            "  File \"/usr/local/lib/python3.10/dist-packages/traitlets/config/application.py\", line 992, in launch_instance\n",
            "    app.start()\n",
            "  File \"/usr/local/lib/python3.10/dist-packages/ipykernel/kernelapp.py\", line 619, in start\n",
            "    self.io_loop.start()\n",
            "  File \"/usr/local/lib/python3.10/dist-packages/tornado/platform/asyncio.py\", line 195, in start\n",
            "    self.asyncio_loop.run_forever()\n",
            "  File \"/usr/lib/python3.10/asyncio/base_events.py\", line 603, in run_forever\n",
            "    self._run_once()\n",
            "  File \"/usr/lib/python3.10/asyncio/base_events.py\", line 1909, in _run_once\n",
            "    handle._run()\n",
            "  File \"/usr/lib/python3.10/asyncio/events.py\", line 94, in _run\n",
            "    self._loop.call_exception_handler(context)\n",
            "  File \"/usr/lib/python3.10/asyncio/base_events.py\", line 1784, in call_exception_handler\n",
            "    self.default_exception_handler(context)\n",
            "  File \"/usr/lib/python3.10/asyncio/base_events.py\", line 1758, in default_exception_handler\n",
            "    logger.error('\\n'.join(log_lines), exc_info=exc_info)\n",
            "Message: 'Exception in callback BaseAsyncIOLoop._handle_events(18, 1)\\nhandle: <Handle BaseAsyncIOLoop._handle_events(18, 1)>'\n",
            "Arguments: ()\n",
            "^C\n"
          ]
        }
      ],
      "source": [
        "!streamlit run /usr/local/lib/python3.10/dist-packages/colab_kernel_launcher.py [ARGUMENTS]"
      ]
    }
  ],
  "metadata": {
    "accelerator": "GPU",
    "colab": {
      "provenance": [],
      "gpuType": "T4",
      "mount_file_id": "1RSoIYl1EOvOxL-v-5_ugtHQj8hAkiq1Q",
      "authorship_tag": "ABX9TyONipa1MWlA0kZQyRF37eQa",
      "include_colab_link": true
    },
    "kernelspec": {
      "display_name": "Python 3",
      "name": "python3"
    },
    "language_info": {
      "name": "python"
    }
  },
  "nbformat": 4,
  "nbformat_minor": 0
}